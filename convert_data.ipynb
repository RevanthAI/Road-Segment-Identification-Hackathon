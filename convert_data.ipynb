{
 "cells": [
  {
   "cell_type": "code",
   "execution_count": null,
   "source": [
    "from tqdm import tqdm\n",
    "\n",
    "import os , PIL \n",
    "\n",
    "from PIL import Image"
   ],
   "outputs": [],
   "metadata": {}
  },
  {
   "cell_type": "code",
   "execution_count": null,
   "source": [
    "# Local path where the original data is stored\n",
    "DATA_PATH='/media/revanth/01D7A0158DB621C0/competitions/zindi/weekend_hackathon_road_segmentation/'\n",
    "\n",
    "for infile in tqdm(os.listdir(DATA_PATH)):\n",
    "    print(infile)\n",
    "   \n",
    "    if infile[-3:] == \"tif\" or infile[-3:] == \"bmp\" :\n",
    "       # print \"is tif or bmp\"\n",
    "       outfile = infile[:-3] + \"jpeg\"\n",
    "       im = Image.open(infile)\n",
    "       out = im.convert(\"RGB\")\n",
    "       #Saves the jpeg images in the current directory\n",
    "       out.save(outfile, \"JPEG\", quality=90)"
   ],
   "outputs": [],
   "metadata": {}
  },
  {
   "cell_type": "code",
   "execution_count": null,
   "source": [],
   "outputs": [],
   "metadata": {}
  }
 ],
 "metadata": {
  "orig_nbformat": 4,
  "language_info": {
   "name": "python",
   "version": "3.7.11",
   "mimetype": "text/x-python",
   "codemirror_mode": {
    "name": "ipython",
    "version": 3
   },
   "pygments_lexer": "ipython3",
   "nbconvert_exporter": "python",
   "file_extension": ".py"
  },
  "kernelspec": {
   "name": "python3",
   "display_name": "Python 3.7.11 64-bit ('tf_gpu': conda)"
  },
  "interpreter": {
   "hash": "d33e21431fad353c8fdb94506a08045bc3896bf1ad0a6f0b2b9437cafb4d281f"
  }
 },
 "nbformat": 4,
 "nbformat_minor": 2
}